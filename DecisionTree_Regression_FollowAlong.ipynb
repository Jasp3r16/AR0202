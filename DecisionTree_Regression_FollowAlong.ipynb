{
 "cells": [
  {
   "cell_type": "markdown",
   "id": "07f3a11c",
   "metadata": {},
   "source": [
    "# Decision Trees for Regression\n",
    "\n",
    "## Table of Contents\n",
    "\n",
    "#### Import the Dataset\n",
    "#### Train the Model and Tune Parameters\n",
    "#### Random Forest\n",
    "\n",
    "\n",
    "Decision Trees can provide an efficient classification option when data cannot be separated linearly. The most commonly used decision tree classifier splits the dataset into hyperrectangles with sides parallel to the axes."
   ]
  },
  {
   "cell_type": "markdown",
   "id": "fb06eeff-3e5d-4f7d-a96b-18263f8f82fe",
   "metadata": {},
   "source": [
    "## Import the Dataset"
   ]
  },
  {
   "cell_type": "code",
   "execution_count": null,
   "id": "89f8ea57-cf2c-4ac7-b631-747f97784e7d",
   "metadata": {},
   "outputs": [
    {
     "ename": "SyntaxError",
     "evalue": "invalid syntax (595963870.py, line 1)",
     "output_type": "error",
     "traceback": [
      "\u001b[0;36m  Cell \u001b[0;32mIn[1], line 1\u001b[0;36m\u001b[0m\n\u001b[0;31m    We will use the concrete dataset.\u001b[0m\n\u001b[0m       ^\u001b[0m\n\u001b[0;31mSyntaxError\u001b[0m\u001b[0;31m:\u001b[0m invalid syntax\n"
     ]
    }
   ],
   "source": [
    "import pandas as pd\n",
    "\n",
    "df = pd.read_csv(data_file_location, sep=\";\", header=0)\n",
    "\n",
    "#Print the dataframe to check it\n",
    "print(tabulate(df, headers='keys', tablefmt='psql'))"
   ]
  },
  {
   "cell_type": "code",
   "execution_count": null,
   "id": "812566ed",
   "metadata": {},
   "outputs": [],
   "source": [
    "# First we need to load the libraries to use them\n",
    "\n",
    "# Load libraries\n",
    "from sklearn.tree import DecisionTreeRegressor\n",
    "from sklearn.model_selection import train_test_split\n",
    "from sklearn import metrics"
   ]
  },
  {
   "cell_type": "code",
   "execution_count": null,
   "id": "8e68c702",
   "metadata": {},
   "outputs": [],
   "source": [
    "#Load the dataset\n",
    "\n",
    "#Import libraries\n",
    "from tabulate import tabulate\n",
    "import pandas as pd\n",
    "import pandas as pd\n",
    "\n",
    "folder = 'filepath'\n",
    "data_file_location = folder + '\\\\concrete_data.csv'\n",
    "save_file_location = folder + '\\\\concrete_data_with_predictions.csv'\n",
    "\n",
    "df = pd.read_csv(data_file_location, sep=\";\", header=0)\n",
    "\n",
    "#Print the dataframe to check it\n",
    "print(tabulate(df, headers='keys', tablefmt='psql'))"
   ]
  },
  {
   "cell_type": "markdown",
   "id": "abeb5f0e-0861-4d78-a5cb-436c192aacca",
   "metadata": {},
   "source": [
    "## Train the Model and Tune Parameters"
   ]
  },
  {
   "cell_type": "code",
   "execution_count": null,
   "id": "99469462",
   "metadata": {},
   "outputs": [],
   "source": [
    "#assign the features to X and the target to y\n",
    "X = df.drop(['compressive_strength'], axis=1)\n",
    "y = df.compressive_strength\n",
    "\n",
    "# Import train_test_split function\n",
    "from sklearn.model_selection import train_test_split\n",
    "\n",
    "# Split dataset into training set and test set\n",
    "X_train, X_test, y_train, y_test = train_test_split(X, y, test_size=0.3,random_state=42) # 70% training and 30% test"
   ]
  },
  {
   "cell_type": "markdown",
   "id": "db2ec782",
   "metadata": {},
   "source": [
    "You can find the documentation for the Decision Tree Regressor at\n",
    "https://scikit-learn.org/stable/modules/generated/sklearn.tree.DecisionTreeRegressor.html#sklearn.tree.DecisionTreeRegressor"
   ]
  },
  {
   "cell_type": "code",
   "execution_count": null,
   "id": "3f4d4b4e",
   "metadata": {},
   "outputs": [],
   "source": [
    "#test different max_depth values\n",
    "from matplotlib import pyplot as plt\n",
    "from sklearn.metrics import root_mean_squared_error\n",
    "\n",
    "depth = []\n",
    "error = []\n",
    "score = []\n",
    "\n",
    "for i in range(1, 15):\n",
    "    # Create Decision Tree classifer object\n",
    "    clf = DecisionTreeRegressor(max_depth=i)\n",
    "    # Train Decision Tree Classifer\n",
    "    clf = clf.fit(X_train,y_train)\n",
    "    #Predict the response for test dataset append accuracy for plotting\n",
    "    y_pred = clf.predict(X_test)\n",
    "    depth.append(i)\n",
    "    error.append(root_mean_squared_error(y_test, y_pred))\n",
    "    score.append(clf.score(X_test, y_test))\n",
    "\n",
    "plt.plot(depth, error, '-o')\n",
    "plt.title('Root Mean Square Errors vs Max Depth')\n",
    "plt.xlabel('Maximum Depth') \n",
    "plt.ylabel('Root Mean Square Error')\n",
    "plt.show()\n",
    "\n",
    "\n",
    "plt.plot(depth, score, '-o')\n",
    "plt.title('R^2 vs Max Depth')\n",
    "plt.xlabel('Maximum Depth') \n",
    "plt.ylabel('R^2')\n",
    "plt.show()"
   ]
  },
  {
   "cell_type": "code",
   "execution_count": null,
   "id": "c6d25f27",
   "metadata": {},
   "outputs": [],
   "source": [
    "# Create Decision Tree classifer object\n",
    "clf = DecisionTreeRegressor(max_depth = 7)\n",
    "\n",
    "# Train Decision Tree Classifer\n",
    "clf = clf.fit(X_train,y_train)\n",
    "\n",
    "#Predict the response for test dataset\n",
    "y_pred = clf.predict(X_test)"
   ]
  },
  {
   "cell_type": "code",
   "execution_count": null,
   "id": "6bb202c6",
   "metadata": {},
   "outputs": [],
   "source": [
    "#Number of Terminal Nodes\n",
    "print(\"Terminal Node Count:\", clf.tree_.node_count)\n",
    "\n",
    "# Model Accuracy, how often is the classifier correct?\n",
    "print(\"Explained Variance (R^2):\",metrics.explained_variance_score(y_test, y_pred))\n",
    "\n",
    "print('Root Mean Squared Error:',metrics.root_mean_squared_error(y_test, y_pred), 'MPa')\n",
    "print('Mean Absolute Error:',metrics.mean_absolute_error(y_test, y_pred), 'MPa')"
   ]
  },
  {
   "cell_type": "markdown",
   "id": "4e27af9c",
   "metadata": {},
   "source": [
    "# Random Forest"
   ]
  },
  {
   "cell_type": "code",
   "execution_count": null,
   "id": "2ca255cf",
   "metadata": {},
   "outputs": [],
   "source": [
    "from sklearn.ensemble import RandomForestRegressor\n",
    "from sklearn.datasets import make_classification\n",
    "\n",
    "# Train Random Forest Classifer\n",
    "clf = RandomForestRegressor(max_depth=7, random_state=42, n_estimators=50)\n",
    "clf.fit(X_train,y_train)\n",
    "\n",
    "#Predict the response for test dataset\n",
    "y_pred = clf.predict(X_test)\n",
    "print('Training complete')"
   ]
  },
  {
   "cell_type": "code",
   "execution_count": null,
   "id": "2f0d98c2",
   "metadata": {},
   "outputs": [],
   "source": [
    "# Model Accuracy, how often is the classifier correct?\n",
    "print(\"Explained Variance (R^2):\",metrics.explained_variance_score(y_test, y_pred))\n",
    "\n",
    "print('Root Mean Squared Error:',metrics.root_mean_squared_error(y_test, y_pred), 'MPa')\n",
    "print('Mean Absolute Error:',metrics.mean_absolute_error(y_test, y_pred), 'MPa')"
   ]
  },
  {
   "cell_type": "markdown",
   "id": "f460bef0-c29d-4857-8c58-78ea20a3c2a2",
   "metadata": {},
   "source": [
    "Remember that RMSE and MAE are relative to the data values. It can be useful to compare them."
   ]
  },
  {
   "cell_type": "code",
   "execution_count": null,
   "id": "52fc4ce6-8923-438b-b9c8-726706c58e59",
   "metadata": {},
   "outputs": [],
   "source": [
    "lowest_value = df['compressive_strength'].min()\n",
    "highest_value = df['compressive_strength'].max()\n",
    "median_value = df['compressive_strength'].median()\n",
    "mean_value = df['compressive_strength'].mean()\n",
    "\n",
    "# Print the results\n",
    "print(f\"Lowest value: {lowest_value}\")\n",
    "print(f\"Highest value: {highest_value}\")\n",
    "print(f\"Median value: {median_value}\")\n",
    "print(f\"Mean value: {mean_value}\")"
   ]
  },
  {
   "cell_type": "code",
   "execution_count": null,
   "id": "149b8995-eec1-4427-ab70-a9c5bc871d66",
   "metadata": {},
   "outputs": [],
   "source": [
    "percentage_median = round(metrics.root_mean_squared_error(y_test, y_pred) / median_value*100, 2)\n",
    "percentage_min = round(metrics.root_mean_squared_error(y_test, y_pred) / lowest_value*100, 2)\n",
    "percentage_max = round(metrics.root_mean_squared_error(y_test, y_pred) / highest_value*100, 2)\n",
    "\n",
    "print(\"RMSE is {}% of the median value of the dataset\".format(percentage_median))\n",
    "print(\"RMSE is {}% of the minimum value of the dataset\".format(percentage_min))\n",
    "print(\"RMSE is {}% of the maximum value of the dataset\".format(percentage_max))"
   ]
  },
  {
   "cell_type": "code",
   "execution_count": null,
   "id": "9dd2a05f",
   "metadata": {},
   "outputs": [],
   "source": []
  }
 ],
 "metadata": {
  "kernelspec": {
   "display_name": "Python 3",
   "language": "python",
   "name": "python3"
  },
  "language_info": {
   "codemirror_mode": {
    "name": "ipython",
    "version": 3
   },
   "file_extension": ".py",
   "mimetype": "text/x-python",
   "name": "python",
   "nbconvert_exporter": "python",
   "pygments_lexer": "ipython3",
   "version": "3.12.1"
  }
 },
 "nbformat": 4,
 "nbformat_minor": 5
}
